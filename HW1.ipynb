{
 "cells": [
  {
   "cell_type": "markdown",
   "id": "c29b61bc",
   "metadata": {},
   "source": [
    "Accept the user's first and last name and print them in reverse order with a space between them\n",
    "Accept an integer (n) input from the user and compute the value of n+nn+nnn. For example if n=4 then n + nn + nnn = 4 + 44 + 444 = 492\n",
    "Ask the user \"What country are you from?\" then print the following statement: \"I have heard that [input] is a beautiful country!\"\n",
    "What is the output of the following Python code\n",
    "\n",
    "x = 10\n",
    "y = 50\n",
    "if (x ** 2 > 100 and y < 100):\n",
    "    print(x, y)\n",
    "What is the output of the following addition (+) operator, and why does this code chunk execute this way?\n",
    "\n",
    "a = [10, 20]\n",
    "b = a\n",
    "b += [30, 40]\n",
    "print(a)\n",
    "print(b)\n",
    "What is the output of the following code and what arithmetic operators is being used here? print(2%6)\n",
    "What is the output of the following code and what arithmetic operators are used here? print(2 * 3 ** 3 * 4)\n",
    "What is a text editor?\n",
    "What is python?\n",
    "What is jupyter notebook, what type of python environment is it, and what alternatives are there to jupyter notebook?"
   ]
  },
  {
   "cell_type": "code",
   "execution_count": 4,
   "id": "90dc9ecc",
   "metadata": {},
   "outputs": [
    {
     "name": "stdout",
     "output_type": "stream",
     "text": [
      "enter first name Frank\n",
      "enter last name Johnson\n",
      "Johnson Frank\n"
     ]
    }
   ],
   "source": [
    "# Accept the user's first and last name and print them in reverse order with a space between them \n",
    "fname=input('enter first name ')\n",
    "lname=input('enter last name ')\n",
    "print (lname + \" \" + fname)"
   ]
  },
  {
   "cell_type": "code",
   "execution_count": 9,
   "id": "cbcbfaaa",
   "metadata": {},
   "outputs": [
    {
     "name": "stdout",
     "output_type": "stream",
     "text": [
      "enter an integer5\n"
     ]
    },
    {
     "data": {
      "text/plain": [
       "615"
      ]
     },
     "execution_count": 9,
     "metadata": {},
     "output_type": "execute_result"
    }
   ],
   "source": [
    "# Accept an integer (n) input from the user and compute the value of n+nn+nnn. For example if n=4 then n + nn + nnn = 4 + 44 + 444 = 492\n",
    "n=int(input('enter an integer'))\n",
    "compute= n + int(str(n) +str(n)) + int(str(n) + str(n) + str(n))\n",
    "compute"
   ]
  },
  {
   "cell_type": "code",
   "execution_count": 11,
   "id": "a8ffaa6b",
   "metadata": {},
   "outputs": [
    {
     "name": "stdout",
     "output_type": "stream",
     "text": [
      "What country are you from? The Netherlands\n",
      "I have heard that The Netherlands is a beautiful country!\n"
     ]
    }
   ],
   "source": [
    "'''Ask the user \"What country are you from?\" then print the following statement:\n",
    "I have heard that [input] is a beautiful country!\"\n",
    "'''\n",
    "country=input('What country are you from? ')\n",
    "print('I have heard that ' + country+ ' is a beautiful country!')"
   ]
  },
  {
   "cell_type": "code",
   "execution_count": null,
   "id": "d3aac8e4",
   "metadata": {},
   "outputs": [],
   "source": []
  }
 ],
 "metadata": {
  "kernelspec": {
   "display_name": "Python 3 (ipykernel)",
   "language": "python",
   "name": "python3"
  },
  "language_info": {
   "codemirror_mode": {
    "name": "ipython",
    "version": 3
   },
   "file_extension": ".py",
   "mimetype": "text/x-python",
   "name": "python",
   "nbconvert_exporter": "python",
   "pygments_lexer": "ipython3",
   "version": "3.9.12"
  }
 },
 "nbformat": 4,
 "nbformat_minor": 5
}
